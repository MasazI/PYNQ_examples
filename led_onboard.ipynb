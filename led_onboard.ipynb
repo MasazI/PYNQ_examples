{
 "cells": [
  {
   "cell_type": "code",
   "execution_count": null,
   "metadata": {
    "collapsed": false
   },
   "outputs": [],
   "source": [
    "# encoding: utf-8\n",
    "'''\n",
    "LED samples for PYNQ.\n",
    "'''\n",
    "import time\n",
    "from pynq import Overlay\n",
    "from pynq.board import LED\n",
    "from pynq.board import RGBLED\n",
    "from pynq.board import Switch\n",
    "from pynq.board import Button\n",
    "\n",
    "Overlay(\"base.bit\").download()\n",
    "\n",
    "# led object\n",
    "led0 = LED(0)\n",
    "led1 = LED(1)\n",
    "\n",
    "# led 0 toggle\n",
    "for i in range(20):\n",
    "    led0.toggle()\n",
    "    time.sleep(.1)"
   ]
  },
  {
   "cell_type": "code",
   "execution_count": null,
   "metadata": {
    "collapsed": true
   },
   "outputs": [],
   "source": [
    "# led 0 and 1 on\n",
    "led0.on()\n",
    "led1.on()"
   ]
  },
  {
   "cell_type": "code",
   "execution_count": null,
   "metadata": {
    "collapsed": false
   },
   "outputs": [],
   "source": [
    "# led 0 and 1 off\n",
    "led0.off()\n",
    "led1.off()"
   ]
  },
  {
   "cell_type": "code",
   "execution_count": 20,
   "metadata": {
    "collapsed": true
   },
   "outputs": [],
   "source": [
    "# controlling all the LEDs, switches and buttons\n",
    "MAX_LEDS = 4\n",
    "MAX_SWITCHES = 2\n",
    "MAX_BUTTONS = 4\n",
    "\n",
    "leds = [0] * MAX_LEDS\n",
    "switches = [0] * MAX_SWITCHES\n",
    "buttons = [0] * MAX_BUTTONS\n",
    "\n",
    "for i in range(MAX_LEDS):\n",
    "    leds[i] = LED(i)\n",
    "for i in range(MAX_SWITCHES):\n",
    "    switches[i] = Switch(i)\n",
    "for i in range(MAX_BUTTONS):\n",
    "    buttons[i] = Button(i)"
   ]
  },
  {
   "cell_type": "code",
   "execution_count": 21,
   "metadata": {
    "collapsed": true
   },
   "outputs": [],
   "source": [
    "# Helper function to clear LEDs\n",
    "def clear_LEDs(LED_nos=list(range(MAX_LEDS))):\n",
    "    \"\"\"Clear LEDS LD3-0 or the LEDs whose numbers appear in the list\"\"\"\n",
    "    for i in LED_nos:\n",
    "        leds[i].off()"
   ]
  },
  {
   "cell_type": "code",
   "execution_count": 22,
   "metadata": {
    "collapsed": false
   },
   "outputs": [],
   "source": [
    "# all LEDs are set to off.\n",
    "clear_LEDs()\n",
    "\n",
    "for i in range(MAX_LEDS):\n",
    "    if switches[i%2].read():\n",
    "        leds[i].on()\n",
    "    else:\n",
    "        leds[i].off()"
   ]
  },
  {
   "cell_type": "code",
   "execution_count": null,
   "metadata": {
    "collapsed": true
   },
   "outputs": [],
   "source": [
    "clear_LEDs()\n",
    "\n",
    "#SW0 to off position\n",
    "while switches[0].read():\n",
    "    for i in range(MAX_LEDS):\n",
    "        if buttons[i].read():\n",
    "            leds[i].toggle()\n",
    "            time.sleep(.1)"
   ]
  },
  {
   "cell_type": "code",
   "execution_count": 19,
   "metadata": {
    "collapsed": false
   },
   "outputs": [],
   "source": [
    "clear_LEDs()"
   ]
  }
 ],
 "metadata": {
  "kernelspec": {
   "display_name": "Python 3",
   "language": "python",
   "name": "python3"
  },
  "language_info": {
   "codemirror_mode": {
    "name": "ipython",
    "version": 3
   },
   "file_extension": ".py",
   "mimetype": "text/x-python",
   "name": "python",
   "nbconvert_exporter": "python",
   "pygments_lexer": "ipython3",
   "version": "3.4.3+"
  }
 },
 "nbformat": 4,
 "nbformat_minor": 1
}
