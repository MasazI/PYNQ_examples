{
 "cells": [
  {
   "cell_type": "code",
   "execution_count": 19,
   "metadata": {
    "collapsed": false
   },
   "outputs": [],
   "source": [
    "# encoding: utf-8\n",
    "'''\n",
    "LED samples for PYNQ.\n",
    "'''\n",
    "import time\n",
    "from pynq import Overlay\n",
    "from pynq.board import LED\n",
    "from pynq.board import RGBLED\n",
    "from pynq.board import Switch\n",
    "from pynq.board import Button\n",
    "\n",
    "Overlay(\"base.bit\").download()\n",
    "\n",
    "# led object\n",
    "led0 = LED(0)\n",
    "led1 = LED(1)\n",
    "\n",
    "# led 0 toggle\n",
    "for i in range(20):\n",
    "    led0.toggle()\n",
    "    time.sleep(.1)"
   ]
  },
  {
   "cell_type": "code",
   "execution_count": 20,
   "metadata": {
    "collapsed": true
   },
   "outputs": [],
   "source": [
    "# led 0 and 1 on\n",
    "led0.on()\n",
    "led1.on()"
   ]
  },
  {
   "cell_type": "code",
   "execution_count": 21,
   "metadata": {
    "collapsed": false
   },
   "outputs": [],
   "source": [
    "# led 0 and 1 off\n",
    "led0.off()\n",
    "led1.off()"
   ]
  },
  {
   "cell_type": "code",
   "execution_count": 22,
   "metadata": {
    "collapsed": true
   },
   "outputs": [],
   "source": [
    "# controlling all the LEDs, switches and buttons\n",
    "MAX_LEDS = 4\n",
    "MAX_SWITCHES = 2\n",
    "MAX_BUTTONS = 4\n",
    "\n",
    "leds = [0] * MAX_LEDS\n",
    "switches = [0] * MAX_SWITCHES\n",
    "buttons = [0] * MAX_BUTTONS\n",
    "\n",
    "for i in range(MAX_LEDS):\n",
    "    leds[i] = LED(i)\n",
    "for i in range(MAX_SWITCHES):\n",
    "    switches[i] = Switch(i)\n",
    "for i in range(MAX_BUTTONS):\n",
    "    buttons[i] = Button(i)"
   ]
  },
  {
   "cell_type": "code",
   "execution_count": null,
   "metadata": {
    "collapsed": true
   },
   "outputs": [],
   "source": []
  }
 ],
 "metadata": {
  "kernelspec": {
   "display_name": "Python 3",
   "language": "python",
   "name": "python3"
  },
  "language_info": {
   "codemirror_mode": {
    "name": "ipython",
    "version": 3
   },
   "file_extension": ".py",
   "mimetype": "text/x-python",
   "name": "python",
   "nbconvert_exporter": "python",
   "pygments_lexer": "ipython3",
   "version": "3.4.3+"
  }
 },
 "nbformat": 4,
 "nbformat_minor": 1
}
