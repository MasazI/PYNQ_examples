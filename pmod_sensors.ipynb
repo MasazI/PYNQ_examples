{
 "cells": [
  {
   "cell_type": "code",
   "execution_count": 25,
   "metadata": {
    "collapsed": false
   },
   "outputs": [],
   "source": [
    "'''\n",
    "PYNQ Using Pmods with an overlay\n",
    "'''\n",
    "# Using Pmod_OLED through PMODB\n",
    "from pynq import Overlay\n",
    "from pynq.iop import Pmod_OLED\n",
    "from pynq.iop import PMODB\n",
    "\n",
    "# Using Pmod_ALS through PMODA\n",
    "import time\n",
    "from pynq.iop import Pmod_ALS\n",
    "from pynq.iop import PMODA\n",
    "\n",
    "ol = Overlay(\"base.bit\")\n",
    "ol.download()\n",
    "\n",
    "oled = Pmod_OLED(PMODB)\n",
    "\n",
    "oled.write(\"Hello world\")"
   ]
  },
  {
   "cell_type": "code",
   "execution_count": 26,
   "metadata": {
    "collapsed": true
   },
   "outputs": [],
   "source": [
    "oled.clear()"
   ]
  },
  {
   "cell_type": "code",
   "execution_count": 27,
   "metadata": {
    "collapsed": false
   },
   "outputs": [
    {
     "name": "stdout",
     "output_type": "stream",
     "text": [
      "Light value: 9\n"
     ]
    }
   ],
   "source": [
    "als = Pmod_ALS(PMODA)\n",
    "als.read()\n",
    "print(\"Light value: %s\" % (str(als.read())))"
   ]
  },
  {
   "cell_type": "code",
   "execution_count": 28,
   "metadata": {
    "collapsed": true
   },
   "outputs": [],
   "source": [
    "oled.write(\"Light value: %s\" % (str(als.read())))"
   ]
  },
  {
   "cell_type": "code",
   "execution_count": 29,
   "metadata": {
    "collapsed": false
   },
   "outputs": [],
   "source": [
    "oled.clear()"
   ]
  },
  {
   "cell_type": "code",
   "execution_count": 30,
   "metadata": {
    "collapsed": false
   },
   "outputs": [
    {
     "data": {
      "text/plain": [
       "[8, 9, 9, 9, 8, 8, 9, 8, 8, 8, 8]"
      ]
     },
     "execution_count": 30,
     "metadata": {},
     "output_type": "execute_result"
    }
   ],
   "source": [
    "# get logs of als\n",
    "als.set_log_interval_ms(100)\n",
    "als.start_log()\n",
    "time.sleep(1)\n",
    "als.stop_log()\n",
    "als.get_log()"
   ]
  },
  {
   "cell_type": "code",
   "execution_count": null,
   "metadata": {
    "collapsed": true
   },
   "outputs": [],
   "source": []
  }
 ],
 "metadata": {
  "kernelspec": {
   "display_name": "Python 3",
   "language": "python",
   "name": "python3"
  },
  "language_info": {
   "codemirror_mode": {
    "name": "ipython",
    "version": 3
   },
   "file_extension": ".py",
   "mimetype": "text/x-python",
   "name": "python",
   "nbconvert_exporter": "python",
   "pygments_lexer": "ipython3",
   "version": "3.4.3+"
  }
 },
 "nbformat": 4,
 "nbformat_minor": 1
}
